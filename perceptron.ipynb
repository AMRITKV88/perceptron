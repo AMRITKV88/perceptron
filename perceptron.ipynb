{
 "metadata": {
  "language_info": {
   "codemirror_mode": {
    "name": "ipython",
    "version": 3
   },
   "file_extension": ".py",
   "mimetype": "text/x-python",
   "name": "python",
   "nbconvert_exporter": "python",
   "pygments_lexer": "ipython3",
   "version": "3.8.5"
  },
  "orig_nbformat": 2,
  "kernelspec": {
   "name": "python385jvsc74a57bd010d7f83aa8d58e613cb6b5fe2472cda0a7202a39cb83411ed017ded153418d90",
   "display_name": "Python 3.8.5 64-bit ('AG': venv)"
  }
 },
 "nbformat": 4,
 "nbformat_minor": 2,
 "cells": [
  {
   "source": [
    "Load Dataset"
   ],
   "cell_type": "markdown",
   "metadata": {}
  },
  {
   "cell_type": "code",
   "execution_count": 18,
   "metadata": {},
   "outputs": [],
   "source": [
    "from sklearn import datasets\n",
    "import numpy as np\n",
    "import pandas as pd\n",
    "breast_cancer = datasets.load_breast_cancer()\n",
    "X = breast_cancer.data\n",
    "Y = breast_cancer.target"
   ]
  },
  {
   "cell_type": "code",
   "execution_count": 19,
   "metadata": {},
   "outputs": [
    {
     "output_type": "stream",
     "name": "stdout",
     "text": [
      "[[1.799e+01 1.038e+01 1.228e+02 ... 2.654e-01 4.601e-01 1.189e-01]\n [2.057e+01 1.777e+01 1.329e+02 ... 1.860e-01 2.750e-01 8.902e-02]\n [1.969e+01 2.125e+01 1.300e+02 ... 2.430e-01 3.613e-01 8.758e-02]\n ...\n [1.660e+01 2.808e+01 1.083e+02 ... 1.418e-01 2.218e-01 7.820e-02]\n [2.060e+01 2.933e+01 1.401e+02 ... 2.650e-01 4.087e-01 1.240e-01]\n [7.760e+00 2.454e+01 4.792e+01 ... 0.000e+00 2.871e-01 7.039e-02]]\n['mean radius' 'mean texture' 'mean perimeter' 'mean area'\n 'mean smoothness' 'mean compactness' 'mean concavity'\n 'mean concave points' 'mean symmetry' 'mean fractal dimension'\n 'radius error' 'texture error' 'perimeter error' 'area error'\n 'smoothness error' 'compactness error' 'concavity error'\n 'concave points error' 'symmetry error' 'fractal dimension error'\n 'worst radius' 'worst texture' 'worst perimeter' 'worst area'\n 'worst smoothness' 'worst compactness' 'worst concavity'\n 'worst concave points' 'worst symmetry' 'worst fractal dimension']\n(569, 30)\n"
     ]
    }
   ],
   "source": [
    "print(X)\n",
    "print(breast_cancer.feature_names)\n",
    "print(X.shape)"
   ]
  },
  {
   "source": [
    "Dataset preparation"
   ],
   "cell_type": "markdown",
   "metadata": {}
  },
  {
   "cell_type": "code",
   "execution_count": 20,
   "metadata": {},
   "outputs": [],
   "source": [
    "# Dataset preparation\n",
    "data_with_feature_name = pd.DataFrame(data = X, columns = breast_cancer.feature_names)\n",
    "data = data_with_feature_name\n",
    "data['class'] = Y"
   ]
  },
  {
   "source": [
    "Train and Test Split"
   ],
   "cell_type": "markdown",
   "metadata": {}
  },
  {
   "cell_type": "code",
   "execution_count": 21,
   "metadata": {},
   "outputs": [],
   "source": [
    "# Train and Test Split\n",
    "from sklearn.model_selection import train_test_split\n",
    "X_data = data.drop('class', axis=1)\n",
    "Y_data = data['class']\n",
    "X_train, X_test, Y_train, Y_test = train_test_split(X_data, Y_data, test_size=0.2, stratify = Y_data, random_state = 1)"
   ]
  },
  {
   "source": [
    "Perceptron Class"
   ],
   "cell_type": "markdown",
   "metadata": {}
  },
  {
   "cell_type": "code",
   "execution_count": 22,
   "metadata": {},
   "outputs": [],
   "source": [
    "from sklearn.metrics import accuracy_score\n",
    "X_train = X_train.values\n",
    "X_test = X_test.values"
   ]
  },
  {
   "cell_type": "code",
   "execution_count": 23,
   "metadata": {},
   "outputs": [],
   "source": [
    "class Perceptron:\n",
    "\n",
    "    def __init__(self):\n",
    "        self.w = None\n",
    "        self.b = None\n",
    "\n",
    "    def model(self, x):\n",
    "\n",
    "        return 1 if (np.dot(self.w, x) >= self.b) else 0\n",
    "\n",
    "    def predict(self, X):\n",
    "        y = []\n",
    "        for x in X:\n",
    "            y_pred = self.model(x)\n",
    "            y.append(y_pred)\n",
    "        return np.array(y)\n",
    "\n",
    "    def fit(self, X, Y, epochs = 10, lr = 0.1):\n",
    "        self.w = np.ones(X.shape[1])\n",
    "        self.b = 0\n",
    "        w_matrix = []\n",
    "        accuracy = {}\n",
    "        max_accuracy = 0\n",
    "\n",
    "        for i in range(epochs):\n",
    "            for x,y in zip(X, Y):\n",
    "                y_train_pred = self.model(x)\n",
    "                if y_train_pred == 1 and y == 0:\n",
    "                    self.w = self.w - lr * x\n",
    "                    self.b = self.b + lr * 1\n",
    "                elif y_train_pred == 0 and y == 1:\n",
    "                    self.w = self.w + lr * x\n",
    "                    self.b = self.b - lr * 1\n",
    "            w_matrix.append(self.w)\n",
    "            accuracy[i] = accuracy_score(self.predict(X), Y)\n",
    "            if (accuracy[i] > max_accuracy):\n",
    "                max_accuracy = accuracy[i]\n",
    "                check_point_w = self.w\n",
    "                check_point_b = self.b\n",
    "\n",
    "        self.w = check_point_w\n",
    "        self.b = check_point_b\n",
    "\n",
    "        print(\"Maximum training accuracy :\",max_accuracy)\n",
    "        return np.array(w_matrix)"
   ]
  },
  {
   "cell_type": "code",
   "execution_count": 24,
   "metadata": {
    "tags": []
   },
   "outputs": [
    {
     "output_type": "stream",
     "name": "stdout",
     "text": [
      "Maximum training accuracy : 0.9098901098901099\nTesting accuracy :  0.9298245614035088\n"
     ]
    }
   ],
   "source": [
    "perceptron = Perceptron()\n",
    "weight_mtx = perceptron.fit(X_train, Y_train, 1000, 0.1)\n",
    "y_pred_test = perceptron.predict(X_test)\n",
    "print(\"Testing accuracy : \", accuracy_score(y_pred_test, Y_test))"
   ]
  },
  {
   "cell_type": "code",
   "execution_count": null,
   "metadata": {},
   "outputs": [],
   "source": []
  }
 ]
}